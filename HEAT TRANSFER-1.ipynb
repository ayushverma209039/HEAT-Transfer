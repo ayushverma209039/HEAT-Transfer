{
 "cells": [
  {
   "cell_type": "code",
   "execution_count": 1,
   "metadata": {},
   "outputs": [],
   "source": [
    "import numpy as np"
   ]
  },
  {
   "cell_type": "code",
   "execution_count": 20,
   "metadata": {},
   "outputs": [
    {
     "name": "stdout",
     "output_type": "stream",
     "text": [
      "1 1\n",
      "1\n",
      "1 2\n",
      "2\n",
      "1 3\n",
      "3\n",
      "1 4\n",
      "4\n",
      "1 5\n",
      "5\n",
      "2 1\n",
      "6\n",
      "2 2\n",
      "7\n",
      "2 3\n",
      "8\n",
      "2 4\n",
      "9\n",
      "2 5\n",
      "10\n",
      "3 1\n",
      "11\n",
      "3 2\n",
      "12\n",
      "3 3\n",
      "13\n",
      "3 4\n",
      "14\n",
      "3 5\n",
      "15\n"
     ]
    },
    {
     "data": {
      "text/plain": [
       "array([953.27546165, 924.6629659 , 915.47949473, 924.6629659 ,\n",
       "       953.27546165, 888.43888071, 829.89690722, 812.59204713,\n",
       "       829.89690722, 888.43888071, 770.58315396, 693.89373513,\n",
       "       675.09487935, 693.89373513, 770.58315396])"
      ]
     },
     "execution_count": 20,
     "metadata": {},
     "output_type": "execute_result"
    }
   ],
   "source": [
    "# Mesh Analysis \n",
    "# m = no. of rows n = no. of columns\n",
    "# to = the three temperatures.\n",
    "# ta = the single temperature\n",
    "\n",
    "# Input your own values to get the results.\n",
    "\n",
    "m = 3\n",
    "n = 5\n",
    "to = 1000\n",
    "ta = 500\n",
    "arr = np.zeros((m*n+2,m*n+2))\n",
    "right = np.zeros(m*n+2)\n",
    "\n",
    "for i in range(1,m+1):\n",
    "    for j in range(1,n+1):\n",
    "        if (i==1 or i==m) and (j==1 or j==n):\n",
    "            print(i,j)\n",
    "            if i==1:\n",
    "                if j==1:\n",
    "                    print(n*(i-1)+j)\n",
    "                    right[n*(i-1)+j] = 2*to\n",
    "                    arr[n*(i-1)+j,n*(i-1)+j] = 4\n",
    "                    arr[n*(i-1)+j,n*(i-1)+j+1]  = -1\n",
    "                    arr[n*(i-1)+j,n*(i-1)+j+n] = -1\n",
    "                elif j==n:\n",
    "                    print(n*(i-1)+j)\n",
    "                    right[n*(i-1)+j] = 2*to\n",
    "                    arr[n*(i-1)+j,n*(i-1)+j] = 4\n",
    "                    arr[n*(i-1)+j,n*(i-1)+j-1]  = -1\n",
    "                    arr[n*(i-1)+j,n*(i-1)+j+n] = -1\n",
    "            elif i==m:\n",
    "                if j==1:\n",
    "                    print(n*(i-1)+j)\n",
    "                    right[n*(i-1)+j] = to+ta\n",
    "                    arr[n*(i-1)+j,n*(i-1)+j] = 4\n",
    "                    arr[n*(i-1)+j,n*(i-1)+j+1]  = -1\n",
    "                    arr[n*(i-1)+j,n*(i-1)+j-n] = -1\n",
    "                elif j==n:\n",
    "                    print(n*(i-1)+j)\n",
    "                    right[n*(i-1)+j] = to+ta\n",
    "                    arr[n*(i-1)+j,n*(i-1)+j] = 4\n",
    "                    arr[n*(i-1)+j,n*(i-1)+j-1]  = -1\n",
    "                    arr[n*(i-1)+j,n*(i-1)+j-n] = -1\n",
    "        elif (i==1 or i==m) or (j==1 or j==n):\n",
    "            print(i,j)\n",
    "            if i==1:\n",
    "                print(n*(i-1)+j)\n",
    "                right[n*(i-1)+j] = to\n",
    "                arr[n*(i-1)+j,n*(i-1)+j] =  4\n",
    "                arr[n*(i-1)+j,n*(i-1)+j+1]  = -1\n",
    "                arr[n*(i-1)+j,n*(i-1)+j-1] = -1\n",
    "                arr[n*(i-1)+j,n*(i-1)+j+n] = -1\n",
    "            elif j==1:\n",
    "                print(n*(i-1)+j)\n",
    "                right[n*(i-1)+j] = to\n",
    "                arr[n*(i-1)+j,n*(i-1)+j] = 4\n",
    "                arr[n*(i-1)+j,n*(i-1)+j+1]  = -1\n",
    "                arr[n*(i-1)+j,n*(i-1)+j-n] = -1\n",
    "                arr[n*(i-1)+j,n*(i-1)+j+n] = -1\n",
    "            elif i==m:\n",
    "                print(n*(i-1)+j)\n",
    "                right[n*(i-1)+j] = ta\n",
    "                arr[n*(i-1)+j,n*(i-1)+j] = 4\n",
    "                arr[n*(i-1)+j,n*(i-1)+j+1]  = -1\n",
    "                arr[n*(i-1)+j,n*(i-1)+j-1] = -1\n",
    "                arr[n*(i-1)+j,n*(i-1)+j-n] = -1\n",
    "            elif j==n:\n",
    "                print(n*(i-1)+j)\n",
    "                right[n*(i-1)+j] = to\n",
    "                arr[n*(i-1)+j,n*(i-1)+j] = 4\n",
    "                arr[n*(i-1)+j,n*(i-1)+j-1]  = -1\n",
    "                arr[n*(i-1)+j,n*(i-1)+j-n] = -1\n",
    "                arr[n*(i-1)+j,n*(i-1)+j+n] = -1\n",
    "        \n",
    "        elif (i<m and i>1) and (j<n and j>1):\n",
    "            print(i,j)\n",
    "            print(n*(i-1)+j)\n",
    "            arr[n*(i-1)+j,n*(i-1)+j] = 4\n",
    "            arr[n*(i-1)+j,n*(i-1)+j-1]  = -1\n",
    "            arr[n*(i-1)+j,n*(i-1)+j-n] = -1\n",
    "            arr[n*(i-1)+j,n*(i-1)+j+n] = -1\n",
    "            arr[n*(i-1)+j,n*(i-1)+j+1] = -1\n",
    "\n",
    "A = arr[1:m*n+1,1:m*n+1]\n",
    "C = right[1:m*n+1]\n",
    "answer = np.dot(np.linalg.inv(A),C)\n",
    "answer"
   ]
  },
  {
   "cell_type": "code",
   "execution_count": 21,
   "metadata": {},
   "outputs": [
    {
     "data": {
      "text/plain": [
       "812.5920471281294"
      ]
     },
     "execution_count": 21,
     "metadata": {},
     "output_type": "execute_result"
    }
   ],
   "source": [
    "answer[int(len(answer)/2)]"
   ]
  },
  {
   "cell_type": "code",
   "execution_count": 17,
   "metadata": {},
   "outputs": [
    {
     "name": "stdout",
     "output_type": "stream",
     "text": [
      "0.6992125471948207\n",
      "0.6991851590399705\n",
      "0.6991851645424635\n",
      "0.6991851645410233\n",
      "0.6991851645410238\n",
      "0.6991851645410238\n",
      "0.6991851645410238\n",
      "0.6991851645410238\n",
      "0.6991851645410238\n"
     ]
    },
    {
     "data": {
      "text/plain": [
       "777.4424498535518"
      ]
     },
     "execution_count": 17,
     "metadata": {},
     "output_type": "execute_result"
    }
   ],
   "source": [
    "# Analytical Solution(please check)\n",
    "# X is L\n",
    "# y is W\n",
    "# to and ta as previous.\n",
    "\n",
    "x = 20\n",
    "y = 10\n",
    "i=1\n",
    "sum = 0\n",
    "for i in range(1,100):\n",
    "    term = (1-(-1)**i)*np.sin(i*np.pi*x/40)*np.sinh(i*np.pi*y/40)/(i*np.sinh(i*np.pi*20/40))\n",
    "    sum = sum+term\n",
    "    if i%10 == 0:\n",
    "        print(sum)\n",
    "        \n",
    "t1 = 1000\n",
    "t2 = 500\n",
    "ans = t1 + (t2-t1)*2*sum/np.pi\n",
    "ans"
   ]
  },
  {
   "cell_type": "code",
   "execution_count": null,
   "metadata": {},
   "outputs": [],
   "source": []
  }
 ],
 "metadata": {
  "kernelspec": {
   "display_name": "Python 3",
   "language": "python",
   "name": "python3"
  },
  "language_info": {
   "codemirror_mode": {
    "name": "ipython",
    "version": 3
   },
   "file_extension": ".py",
   "mimetype": "text/x-python",
   "name": "python",
   "nbconvert_exporter": "python",
   "pygments_lexer": "ipython3",
   "version": "3.6.5"
  }
 },
 "nbformat": 4,
 "nbformat_minor": 2
}
